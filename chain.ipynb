{
 "cells": [
  {
   "cell_type": "code",
   "execution_count": 4,
   "outputs": [],
   "source": [
    "from langchain.sql_database import SQLDatabase\n",
    "\n",
    "db = SQLDatabase.from_uri(\"sqlite:///db.sqlite\")"
   ],
   "metadata": {
    "collapsed": false,
    "ExecuteTime": {
     "end_time": "2023-12-22T12:07:18.814200900Z",
     "start_time": "2023-12-22T12:07:18.777870300Z"
    }
   },
   "id": "3a457be9bead9a8e"
  },
  {
   "cell_type": "code",
   "execution_count": 5,
   "outputs": [],
   "source": [
    "from google.cloud import aiplatform\n",
    "\n",
    "aiplatform.init(project=\"odin-321417\")"
   ],
   "metadata": {
    "collapsed": false,
    "ExecuteTime": {
     "end_time": "2023-12-22T12:07:20.964889500Z",
     "start_time": "2023-12-22T12:07:18.966773100Z"
    }
   },
   "id": "b0526c3fa7525612"
  },
  {
   "cell_type": "code",
   "execution_count": 6,
   "outputs": [],
   "source": [
    "from langchain.llms import VertexAI\n",
    "\n",
    "code_gen_llm = VertexAI(model_name=\"code-bison\")\n",
    "llm = VertexAI()"
   ],
   "metadata": {
    "collapsed": false,
    "ExecuteTime": {
     "end_time": "2023-12-22T12:07:33.939744200Z",
     "start_time": "2023-12-22T12:07:20.967922800Z"
    }
   },
   "id": "1af4d00bb94eb16"
  },
  {
   "cell_type": "code",
   "execution_count": 7,
   "outputs": [],
   "source": [
    "from langchain_core.prompts import PromptTemplate\n",
    "\n",
    "TEMPLATE = \"\"\"\n",
    "You are a SQLite expert. Given an input question, first create a syntactically correct SQLite query to run, then look at the results of the query and return the answer to the input question.\n",
    "Never query for all columns from a table. You must query only the columns that are needed to answer the question. Wrap each column name in double quotes (\") to denote them as delimited identifiers.\n",
    "Pay attention to use only the column names you can see in the tables below. Be careful to not query for columns that do not exist. Also, pay attention to which column is in which table.\n",
    "Pay attention to use date('now') function to get the current date, if the question involves \"today\".\n",
    "\n",
    "Use the following format:\n",
    "\n",
    "Question: Question here\n",
    "SQLQuery: SQL Query to run\n",
    "SQLResult: Result of the SQLQuery\n",
    "Answer: Final answer here\n",
    "\n",
    "Only use the following tables:\n",
    "CREATE TABLE traffic (\n",
    "\tdate_of_metrics DATE NOT NULL, \n",
    "\ttotal_visits INTEGER DEFAULT 0 NOT NULL, \n",
    "\tbrand_name TEXT, \n",
    "\tphone_model TEXT, \n",
    "\tpartner TEXT, \n",
    "\tpartner_country TEXT, \n",
    "\tpartner_region TEXT\n",
    ")\n",
    "\n",
    "/*\n",
    "3 rows from traffic table:\n",
    "date_of_metrics\ttotal_visits\tbrand_name\tphone_model\tpartner\tpartner_country\tpartner_region\n",
    "2023-11-05\t8155\tSamsung\tGalaxy A54\tEE\tUK\tEMEA\n",
    "2023-11-05\t18278\tApple\tiPhone 15\tEE\tUK\tEMEA\n",
    "2023-11-05\t7693\tApple\tiPhone 13\tEE\tUK\tEMEA*/\n",
    "\n",
    "CREATE TABLE sales_data (\n",
    "\tweek INTEGER, \n",
    "\tyear INTEGER, \n",
    "\tpartner TEXT, \n",
    "\tregion_type TEXT, \n",
    "\tregion_breakdown TEXT, \n",
    "\tproduct_model TEXT, \n",
    "\tcurrent_week_sales REAL, \n",
    "\tquarterly_target REAL, \n",
    "\tqtd_sales REAL, \n",
    "\tcurren_rr REAL, \n",
    "\tamended_rr REAL, \n",
    "\tquarterly_percentage REAL\n",
    ")\n",
    "\n",
    "/*\n",
    "3 rows from sales_data table:\n",
    "week\tyear\tpartner\tregion_type\tregion_breakdown\tproduct_model\tcurrent_week_sales\tquarterly_target\tqtd_sales\tcurren_rr\tamended_rr\tquarterly_percentage\n",
    "41\t2023\tAT&T\tCarrier Market\tDESERT SOUTHWEST\tPixel 7\t20.0\t5.0\t2.0\t10.0\t5.0\t100.0\n",
    "41\t2023\tAT&T\tCarrier Market\tDESERT SOUTHWEST\tPixel 7 Pro\t7.0\t28.0\t11.0\t16.0\t5.0\t103.0\n",
    "41\t2023\tAT&T\tCarrier Market\tDESERT SOUTHWEST\tPixel 7a\t30.0\t10.0\t49.0\t4.0\t20.0\t131.0\n",
    "*/\n",
    "\n",
    "The traffic table compiles detailed metrics on website visits, including partner, brand, and phone model data. Key columns:\n",
    "\n",
    "date_of_metrics (Date): Records the date for time-based analysis of website visits.\n",
    "total_visits (Integer): Indicates daily user engagement by storing the total visits for a specific partner, brand, and phone model.\n",
    "brand_name (Text): Contains the phone brand name (Google, Apple, etc).\n",
    "phone_model (Text): Stores the phone model\n",
    "partner (Text): Specifies the partner store (Best buy, amazon, etc).\n",
    "partner_country (Text): Captures the partner's country, providing geographical context.\n",
    "partner_region (Text): Specifies the partner's region for a detailed geographical understanding.\n",
    "\n",
    "The cumulative total visits for a brand is stored where phone model is none\n",
    "\n",
    "Question: {input}\n",
    "\"\"\"\n",
    "\n",
    "CUSTOM_PROMPT = PromptTemplate(\n",
    "    input_variables=[\"input\"],\n",
    "    template=TEMPLATE,\n",
    ")\n",
    "\n",
    "template = \"\"\"\n",
    "Question: {question}\n",
    "SQL Query: {query}\n",
    "Result: {result}\n",
    "Answer: Using the sql query and result to answer the question. Write in business english\"\"\"\n",
    "\n",
    "prompt = PromptTemplate.from_template(template)\n",
    "\n",
    "inference_chain = prompt | llm"
   ],
   "metadata": {
    "collapsed": false,
    "ExecuteTime": {
     "end_time": "2023-12-22T12:07:33.960877400Z",
     "start_time": "2023-12-22T12:07:33.945244100Z"
    }
   },
   "id": "e66d2f97981e93fc"
  },
  {
   "cell_type": "code",
   "execution_count": 8,
   "outputs": [],
   "source": [
    "\n",
    "from langchain.chains import create_sql_query_chain\n",
    "\n",
    "db_chain = create_sql_query_chain(code_gen_llm, db, prompt=CUSTOM_PROMPT)"
   ],
   "metadata": {
    "collapsed": false,
    "ExecuteTime": {
     "end_time": "2023-12-22T12:07:33.973801Z",
     "start_time": "2023-12-22T12:07:33.951472300Z"
    }
   },
   "id": "169b772fc292b836"
  },
  {
   "cell_type": "code",
   "execution_count": 9,
   "outputs": [],
   "source": [
    "def answer(question, sql=False):\n",
    "    response = db_chain.invoke({\"question\":question})\n",
    "    sql_query = response.split(\"```\")[1][3:].strip()\n",
    "    import sqlite3\n",
    "    if sql:\n",
    "        print(sql_query)\n",
    "    conn = sqlite3.connect(\"db.sqlite\")\n",
    "    cursor = conn.cursor()\n",
    "    \n",
    "    try:\n",
    "        cursor.execute(sql_query)\n",
    "        x = cursor.fetchall()\n",
    "        x = str(x)\n",
    "        if sql:\n",
    "            print(x)\n",
    "    except Exception as e:\n",
    "        print(e)\n",
    "    \n",
    "    print(question)\n",
    "    print(inference_chain.invoke({\"question\": question, \"query\": sql_query, \"result\": x}))"
   ],
   "metadata": {
    "collapsed": false,
    "ExecuteTime": {
     "end_time": "2023-12-22T12:07:33.973801Z",
     "start_time": "2023-12-22T12:07:33.966077600Z"
    }
   },
   "id": "6a8e07d7bc7272d3"
  },
  {
   "cell_type": "code",
   "execution_count": 10,
   "outputs": [
    {
     "name": "stdout",
     "output_type": "stream",
     "text": [
      "What is the traffic for US for last quarter?\n",
      " The total number of visits to the website from the United States in the last quarter was 1,073,153,766.\n"
     ]
    }
   ],
   "source": [
    "answer(\"What is the traffic for US for last quarter?\")"
   ],
   "metadata": {
    "collapsed": false,
    "ExecuteTime": {
     "end_time": "2023-12-22T12:07:39.641543800Z",
     "start_time": "2023-12-22T12:07:33.971282800Z"
    }
   },
   "id": "359f076356fdff3a"
  },
  {
   "cell_type": "code",
   "execution_count": 11,
   "outputs": [
    {
     "name": "stdout",
     "output_type": "stream",
     "text": [
      "What is the traffic for US\n",
      " The total traffic for the United States is 10,772,702,267.\n"
     ]
    }
   ],
   "source": [
    "answer(\"What is the traffic for US\")"
   ],
   "metadata": {
    "collapsed": false,
    "ExecuteTime": {
     "end_time": "2023-12-22T12:07:42.157758700Z",
     "start_time": "2023-12-22T12:07:39.642543900Z"
    }
   },
   "id": "785b44fc51d281fb"
  },
  {
   "cell_type": "code",
   "execution_count": 12,
   "outputs": [
    {
     "name": "stdout",
     "output_type": "stream",
     "text": [
      "What is the traffic for AT&T?\n",
      " AT&T had a total of 3,402,526,149 visits.\n"
     ]
    }
   ],
   "source": [
    "answer(\"What is the traffic for AT&T?\")"
   ],
   "metadata": {
    "collapsed": false,
    "ExecuteTime": {
     "end_time": "2023-12-22T12:07:44.562501Z",
     "start_time": "2023-12-22T12:07:42.149876500Z"
    }
   },
   "id": "d79b5eb90194fc07"
  },
  {
   "cell_type": "code",
   "execution_count": 13,
   "outputs": [
    {
     "name": "stdout",
     "output_type": "stream",
     "text": [
      "What is the traffic for AT&T for last quarter?\n",
      " AT&T experienced a total traffic of 346,750,425 visits in the last quarter.\n"
     ]
    }
   ],
   "source": [
    "answer(\"What is the traffic for AT&T for last quarter?\")"
   ],
   "metadata": {
    "collapsed": false,
    "ExecuteTime": {
     "end_time": "2023-12-22T12:07:47.570890300Z",
     "start_time": "2023-12-22T12:07:44.550640400Z"
    }
   },
   "id": "9a2029df49696c56"
  },
  {
   "cell_type": "code",
   "execution_count": 14,
   "outputs": [
    {
     "name": "stdout",
     "output_type": "stream",
     "text": [
      "What is the traffic for ATT?\n",
      " AT&T had a total of 3,402,526,149 visits.\n"
     ]
    }
   ],
   "source": [
    "answer(\"What is the traffic for ATT?\")"
   ],
   "metadata": {
    "collapsed": false,
    "ExecuteTime": {
     "end_time": "2023-12-22T12:07:50.202818600Z",
     "start_time": "2023-12-22T12:07:47.563739200Z"
    }
   },
   "id": "6332913048a1c086"
  },
  {
   "cell_type": "code",
   "execution_count": 15,
   "outputs": [
    {
     "name": "stdout",
     "output_type": "stream",
     "text": [
      "What is the traffic for AT&T in jan\n",
      " In January 2023, AT&T had a total of 191,149,380 visits to its website from users with a known phone model.\n"
     ]
    }
   ],
   "source": [
    "answer(\"What is the traffic for AT&T in jan\")"
   ],
   "metadata": {
    "collapsed": false,
    "ExecuteTime": {
     "end_time": "2023-12-22T12:07:53.469408100Z",
     "start_time": "2023-12-22T12:07:50.203817600Z"
    }
   },
   "id": "e931ae245e3778d2"
  },
  {
   "cell_type": "code",
   "execution_count": 16,
   "outputs": [
    {
     "name": "stdout",
     "output_type": "stream",
     "text": [
      "SELECT SUM(\"total_visits\") AS \"Total Visits\"\n",
      "FROM traffic\n",
      "WHERE partner = 'AT&T'\n",
      "  AND partner_country = 'US';\n",
      "[(3402526149,)]\n",
      "What is the traffic for AT&T US\n",
      " AT&T US has a total of 3,402,526,149 visits.\n"
     ]
    }
   ],
   "source": [
    "answer(\"What is the traffic for AT&T US\", sql=True)"
   ],
   "metadata": {
    "collapsed": false,
    "ExecuteTime": {
     "end_time": "2023-12-22T12:07:56.450028500Z",
     "start_time": "2023-12-22T12:07:53.471430900Z"
    }
   },
   "id": "28b1083fe276586"
  },
  {
   "cell_type": "code",
   "execution_count": 17,
   "outputs": [
    {
     "name": "stdout",
     "output_type": "stream",
     "text": [
      "What is the traffic for AT&T UK\n",
      " AT&T UK has no traffic data available in the provided database.\n"
     ]
    }
   ],
   "source": [
    "answer(\"What is the traffic for AT&T UK\")"
   ],
   "metadata": {
    "collapsed": false,
    "ExecuteTime": {
     "end_time": "2023-12-22T12:07:58.879773300Z",
     "start_time": "2023-12-22T12:07:56.453274100Z"
    }
   },
   "id": "c710322818797734"
  },
  {
   "cell_type": "code",
   "execution_count": 18,
   "outputs": [
    {
     "name": "stdout",
     "output_type": "stream",
     "text": [
      "SELECT MAX(total_visits) AS \"Maximum Visits\"\n",
      "FROM traffic\n",
      "WHERE partner = 'AT&T';\n",
      "[(44969052,)]\n",
      "When was the highest the traffic for AT&T\n",
      " AT&T experienced its highest traffic with a peak of 44,969,052 total visits.\n"
     ]
    }
   ],
   "source": [
    "answer(\"When was the highest the traffic for AT&T\", sql=True)"
   ],
   "metadata": {
    "collapsed": false,
    "ExecuteTime": {
     "end_time": "2023-12-22T12:08:02.258158900Z",
     "start_time": "2023-12-22T12:07:58.879773300Z"
    }
   },
   "id": "9006c62fd1282876"
  },
  {
   "cell_type": "code",
   "execution_count": 19,
   "outputs": [
    {
     "name": "stdout",
     "output_type": "stream",
     "text": [
      "SELECT partner_country, SUM(total_visits) AS total_visits\n",
      "FROM traffic\n",
      "WHERE brand_name = 'Google'\n",
      "GROUP BY partner_country\n",
      "ORDER BY total_visits DESC\n",
      "LIMIT 1;\n",
      "[('US', 93045177)]\n",
      "Which country had the highest vists for google\n",
      " The United States had the highest number of visits to Google, with a total of 93,045,177 visits.\n"
     ]
    }
   ],
   "source": [
    "answer(\"Which country had the highest vists for google\", sql=True)"
   ],
   "metadata": {
    "collapsed": false,
    "ExecuteTime": {
     "end_time": "2023-12-22T12:08:06.467894800Z",
     "start_time": "2023-12-22T12:08:02.250429900Z"
    }
   },
   "id": "594d78e01e87fe6c"
  },
  {
   "cell_type": "code",
   "execution_count": 20,
   "outputs": [
    {
     "name": "stdout",
     "output_type": "stream",
     "text": [
      "SELECT partner_country, SUM(total_visits) AS total_visits\n",
      "FROM traffic\n",
      "WHERE brand_name IN ('Google', 'Samsung')\n",
      "GROUP BY partner_country\n",
      "ORDER BY total_visits DESC\n",
      "LIMIT 1;\n",
      "[('US', 465221335)]\n",
      "Which country had the highest visits for google and samsung\n",
      " The United States had the highest number of visits for both Google and Samsung, with a total of 465,221,335 visits.\n"
     ]
    }
   ],
   "source": [
    "answer(\"Which country had the highest visits for google and samsung\", sql=True)\n"
   ],
   "metadata": {
    "collapsed": false,
    "ExecuteTime": {
     "end_time": "2023-12-22T12:08:10.126819500Z",
     "start_time": "2023-12-22T12:08:06.467894800Z"
    }
   },
   "id": "8be1cd0cb6cdbf7e"
  },
  {
   "cell_type": "code",
   "execution_count": 21,
   "outputs": [
    {
     "name": "stdout",
     "output_type": "stream",
     "text": [
      "SELECT partner_country, SUM(total_visits) AS total_visits\n",
      "FROM traffic\n",
      "WHERE brand_name = 'Google'\n",
      "AND date_of_metrics BETWEEN '2023-06-01' AND '2023-09-30'\n",
      "GROUP BY partner_country\n",
      "ORDER BY total_visits DESC\n",
      "LIMIT 1;\n",
      "[('JP', 15456739)]\n",
      "Which country had the highest vists for google between june to september 2023\n",
      " **Country with the Highest Google Visits from June to September 2023**\n",
      "\n",
      "Based on the traffic data, Japan (JP) had the highest number of visits to Google between June and September 2023. With a total of 15,456,739 visits, Japan significantly surpassed other countries during this period. This indicates that Google experienced substantial user engagement and traffic from Japan during those months.\n"
     ]
    }
   ],
   "source": [
    "answer(\"Which country had the highest vists for google between june to september 2023\", sql=True)"
   ],
   "metadata": {
    "collapsed": false,
    "ExecuteTime": {
     "end_time": "2023-12-22T12:08:14.002242100Z",
     "start_time": "2023-12-22T12:08:10.127819300Z"
    }
   },
   "id": "d4f4dd0d7370b730"
  },
  {
   "cell_type": "code",
   "execution_count": 22,
   "outputs": [
    {
     "name": "stdout",
     "output_type": "stream",
     "text": [
      "SELECT partner, SUM(current_week_sales) AS \"Total Sales\" \n",
      "-- From the sales_data table\n",
      "FROM sales_data\n",
      "-- Group the results by partner\n",
      "GROUP BY partner\n",
      "-- Order the results by Total Sales in descending order\n",
      "ORDER BY \"Total Sales\" DESC\n",
      "-- Limit the output to the top 1 row\n",
      "LIMIT 1;\n",
      "[('Verizon', 78603.0)]\n",
      "Which partner had the highest sales\n",
      " Verizon had the highest sales among all partners, with total sales of $78,603.00 during the specified time period.\n"
     ]
    }
   ],
   "source": [
    "answer(\"Which partner had the highest sales\", sql=True)"
   ],
   "metadata": {
    "collapsed": false,
    "ExecuteTime": {
     "end_time": "2023-12-22T12:12:59.877679500Z",
     "start_time": "2023-12-22T12:12:42.550971500Z"
    }
   },
   "id": "9433893213b787b8"
  },
  {
   "cell_type": "code",
   "execution_count": 23,
   "outputs": [
    {
     "name": "stdout",
     "output_type": "stream",
     "text": [
      "SELECT \n",
      "    partner,\n",
      "    SUM(current_week_sales) AS total_sales\n",
      "FROM \n",
      "    sales_data\n",
      "WHERE \n",
      "    year = 2022\n",
      "GROUP BY \n",
      "    partner\n",
      "ORDER BY \n",
      "    total_sales DESC\n",
      "LIMIT 1;\n",
      "[]\n",
      "Which partner had the highest sales in 2022\n",
      " The partner with the highest sales in 2022 is not available in the provided data.\n"
     ]
    }
   ],
   "source": [
    "answer(\"Which partner had the highest sales in 2022\", sql=True)"
   ],
   "metadata": {
    "collapsed": false,
    "ExecuteTime": {
     "end_time": "2023-12-22T12:14:04.128781700Z",
     "start_time": "2023-12-22T12:14:00.998672800Z"
    }
   },
   "id": "9d55b61213cdbb1f"
  },
  {
   "cell_type": "code",
   "execution_count": 24,
   "outputs": [
    {
     "name": "stdout",
     "output_type": "stream",
     "text": [
      "SELECT partner, SUM(current_week_sales) AS total_sales\n",
      "FROM sales_data\n",
      "GROUP BY partner\n",
      "ORDER BY total_sales DESC\n",
      "LIMIT 3;\n",
      "[('Verizon', 78603.0), ('T-Mobile', 70607.0), ('Best Buy', 56451.0)]\n",
      "Top 3 partners in terms of sales\n",
      " The top three partners in terms of sales are Verizon, T-Mobile, and Best Buy. Verizon contributed the most sales with a total of $78,603, followed by T-Mobile with $70,607, and Best Buy with $56,451.\n"
     ]
    }
   ],
   "source": [
    "answer(\"Top 3 partners in terms of sales\", sql=True)"
   ],
   "metadata": {
    "collapsed": false,
    "ExecuteTime": {
     "end_time": "2023-12-22T12:14:29.131554700Z",
     "start_time": "2023-12-22T12:14:25.774775700Z"
    }
   },
   "id": "9f9280d380f7eb3e"
  },
  {
   "cell_type": "code",
   "execution_count": 25,
   "outputs": [
    {
     "name": "stdout",
     "output_type": "stream",
     "text": [
      "SELECT partner, SUM(current_week_sales) AS total_sales\n",
      "FROM sales_data\n",
      "WHERE week >= 27\n",
      "GROUP BY partner\n",
      "ORDER BY total_sales DESC\n",
      "LIMIT 3;\n",
      "[('Verizon', 78603.0), ('T-Mobile', 70607.0), ('Best Buy', 56451.0)]\n",
      "Top 3 partners in terms of sales in the second half of 2023\n",
      " In the second half of 2023, the top three partners in terms of sales were Verizon, T-Mobile, and Best Buy. Verizon had the highest sales, with a total of $78,603 in sales. T-Mobile was the second highest, with a total of $70,607 in sales. Best Buy was the third highest, with a total of $56,451 in sales.\n"
     ]
    }
   ],
   "source": [
    "answer(\"Top 3 partners in terms of sales in the second half of 2023\", sql=True)"
   ],
   "metadata": {
    "collapsed": false,
    "ExecuteTime": {
     "end_time": "2023-12-22T12:16:11.244293900Z",
     "start_time": "2023-12-22T12:16:06.900363200Z"
    }
   },
   "id": "2d692c494140304"
  },
  {
   "cell_type": "code",
   "execution_count": 26,
   "outputs": [
    {
     "name": "stdout",
     "output_type": "stream",
     "text": [
      "SELECT AVG(\"current_week_sales\") AS \"Average Weekly Sales\"\n",
      "FROM sales_data\n",
      "WHERE partner = 'AT&T';\n",
      "[(47.654970760233915,)]\n",
      "Average weekly sales of AT&T\n",
      " On average, AT&T generates $47,654.97 in weekly sales.\n"
     ]
    }
   ],
   "source": [
    "answer(\"Average weekly sales of AT&T\", sql=True)"
   ],
   "metadata": {
    "collapsed": false,
    "ExecuteTime": {
     "end_time": "2023-12-22T12:26:48.455876Z",
     "start_time": "2023-12-22T12:26:43.063648600Z"
    }
   },
   "id": "66959fffe4f552af"
  },
  {
   "cell_type": "code",
   "execution_count": 31,
   "outputs": [
    {
     "name": "stdout",
     "output_type": "stream",
     "text": [
      "-- Calculate the average weekly sales for AT&T in the second half of 2023\n",
      "SELECT AVG(\"current_week_sales\") AS \"Average Weekly Sales\"\n",
      "FROM \"sales_data\"\n",
      "WHERE \"partner\" = 'AT&T'\n",
      "  AND \"year\" = 2023\n",
      "  AND \"week\" BETWEEN 27 AND 52;\n",
      "[(47.654970760233915,)]\n",
      "Average weekly sales of AT&T in the second half of 2023\n",
      " In the second half of 2023, AT&T's average weekly sales were approximately $47.65 million.\n"
     ]
    }
   ],
   "source": [
    "answer(\"Average weekly sales of AT&T in the second half of 2023\", sql=True)"
   ],
   "metadata": {
    "collapsed": false,
    "ExecuteTime": {
     "end_time": "2023-12-22T12:30:16.960683300Z",
     "start_time": "2023-12-22T12:30:13.803105500Z"
    }
   },
   "id": "66fef2dd35e077de"
  },
  {
   "cell_type": "code",
   "execution_count": null,
   "outputs": [],
   "source": [
    "from langchain.agents import create_sql_agent\n",
    "from langchain.agents.agent_toolkits import SQLDatabaseToolkit\n",
    "\n",
    "from langchain.agents.agent_types import AgentType\n",
    "\n",
    "agent_executor = create_sql_agent(\n",
    "    llm=llm,\n",
    "    toolkit=SQLDatabaseToolkit(db=db, llm=llm),\n",
    "    verbose=True,\n",
    "    agent_type=AgentType.ZERO_SHOT_REACT_DESCRIPTION,\n",
    ")"
   ],
   "metadata": {
    "collapsed": false,
    "ExecuteTime": {
     "end_time": "2023-12-21T13:23:43.644358700Z",
     "start_time": "2023-12-21T13:23:43.641266Z"
    }
   },
   "id": "e285cddf842ce244"
  },
  {
   "cell_type": "code",
   "execution_count": null,
   "outputs": [],
   "source": [
    "Sagent_executor.run(\n",
    "    \"What is the total Google visits in the last week visit for US?\"\n",
    ")"
   ],
   "metadata": {
    "collapsed": false,
    "ExecuteTime": {
     "start_time": "2023-12-21T13:23:43.643265300Z"
    }
   },
   "id": "37985efc91e9926f"
  },
  {
   "cell_type": "code",
   "execution_count": null,
   "outputs": [],
   "source": [],
   "metadata": {
    "collapsed": false,
    "ExecuteTime": {
     "end_time": "2023-12-21T13:23:43.644358700Z",
     "start_time": "2023-12-21T13:23:43.644358700Z"
    }
   },
   "id": "1a5c4e3e446bbc32"
  }
 ],
 "metadata": {
  "kernelspec": {
   "display_name": "Python 3",
   "language": "python",
   "name": "python3"
  },
  "language_info": {
   "codemirror_mode": {
    "name": "ipython",
    "version": 2
   },
   "file_extension": ".py",
   "mimetype": "text/x-python",
   "name": "python",
   "nbconvert_exporter": "python",
   "pygments_lexer": "ipython2",
   "version": "2.7.6"
  }
 },
 "nbformat": 4,
 "nbformat_minor": 5
}
